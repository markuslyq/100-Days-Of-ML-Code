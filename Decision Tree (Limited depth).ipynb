{
  "nbformat": 4,
  "nbformat_minor": 0,
  "metadata": {
    "colab": {
      "name": "A0221167M-Markus Lim Yi Qin-H2.ipynb",
      "provenance": [],
      "collapsed_sections": [],
      "authorship_tag": "ABX9TyNbTKY4gO3pGerz5RdNWu0l",
      "include_colab_link": true
    },
    "kernelspec": {
      "name": "python3",
      "display_name": "Python 3"
    },
    "language_info": {
      "name": "python"
    }
  },
  "cells": [
    {
      "cell_type": "markdown",
      "metadata": {
        "id": "view-in-github",
        "colab_type": "text"
      },
      "source": [
        "<a href=\"https://colab.research.google.com/github/markuslyq/100-Days-Of-ML-Code/blob/master/Decision%20Tree%20(Limited%20depth).ipynb\" target=\"_parent\"><img src=\"https://colab.research.google.com/assets/colab-badge.svg\" alt=\"Open In Colab\"/></a>"
      ]
    },
    {
      "cell_type": "markdown",
      "source": [
        "**Question 3.**\n",
        "\n",
        "In this problem, we will look at the Breast Cancer Wisconsin (Diagnostic) Data Set available UCI Machine Learning Repository. Please use the wdbc.data dataset from: https://archive.ics.uci.edu/ml/datasets/Breast+Cancer+Wisconsin+%28Diagnostic%29\n",
        "\n",
        "* Compute the performance of the DT algorithm on this dataset for predicting the whether the cancer is malignant or benign. Use a random train/test data split of 70%/30%. Repeat this process 20 times and compute the average performance. \n",
        "\n",
        "* Please evaluate the following algorithms: \n",
        "  \n",
        "  * DT1: DT with Information Gain (IG) \n",
        "  * DT2: DT with IG & limited tree size, vary the number of levels and try to beat DT1 \n",
        "* Please compute the following metrics and fill in the table below. \n",
        "  * Training Accuracy and Test Accuracy\n",
        "  *\tPrecision and Recall (which are important metrics that complement Accuracy)\n",
        "  * You can read about performance metrics at: https://en.wikipedia.org/wiki/Confusion_matrix\n",
        "  * SKLearn contains functions to compute these metrics: https://scikit-learn.org/stable/modules/classes.html#module-sklearn.metrics"
      ],
      "metadata": {
        "id": "nA16L_Yuv8NI"
      }
    },
    {
      "cell_type": "code",
      "execution_count": null,
      "metadata": {
        "colab": {
          "base_uri": "https://localhost:8080/"
        },
        "id": "uk2ykyBUvyH6",
        "outputId": "1416fb52-84af-4e9d-f1bc-cfadf55d5226"
      },
      "outputs": [
        {
          "output_type": "stream",
          "name": "stdout",
          "text": [
            "DT1 Average Training Accuracy: 1.000\n",
            "DT1 Average Accuracy: 0.925\n",
            "DT1 Average Recall: 0.935\n",
            "DT1 Average Precision: 0.945\n",
            "----------------------------------------\n",
            "DT2 Average Training Accuracy: 0.986\n",
            "DT2 Average Accuracy: 0.938\n",
            "DT2 Average Recall: 0.953\n",
            "DT2 Average Precision: 0.949\n"
          ]
        }
      ],
      "source": [
        "import numpy as np\n",
        "\n",
        "from sklearn import datasets\n",
        "from sklearn.model_selection import train_test_split\n",
        "from sklearn.preprocessing import StandardScaler\n",
        "from sklearn.metrics import precision_score, recall_score, f1_score, accuracy_score\n",
        "from sklearn.metrics import classification_report\n",
        "# import matplotlib.pyplot as plt\n",
        "\n",
        "from sklearn.tree import DecisionTreeClassifier\n",
        "\n",
        "# Load the breast cancer data set\n",
        "bc = datasets.load_breast_cancer()\n",
        "#features\n",
        "X = bc.data\n",
        "#labels\n",
        "y = bc.target\n",
        "\n",
        "DT1trainingAccuracyArr = []\n",
        "DT1accuracyArr = []\n",
        "DT1recallArr = []\n",
        "DT1precisionArr = []\n",
        "\n",
        "DT2trainingAccuracyArr = []\n",
        "DT2accuracyArr = []\n",
        "DT2recallArr = []\n",
        "DT2precisionArr = []\n",
        "\n",
        "for i in range(0, 20):\n",
        "  # Create training and test splits\n",
        "  X_train, X_test, y_train, y_test = train_test_split(X, y, test_size=0.30, stratify=y)\n",
        "  \n",
        "  # Standardize the data set\n",
        "  sc = StandardScaler()\n",
        "  sc.fit(X_train)\n",
        "  X_train_std = sc.transform(X_train)\n",
        "  X_test_std = sc.transform(X_test)\n",
        "\n",
        "  #DT1: DT with Information Gain (IG)\n",
        "  DT1 = DecisionTreeClassifier()\n",
        "  DT1.fit(X_train, y_train)\n",
        "  y_pred_DT1 = DT1.predict(X_test)\n",
        "  y_train_pred_DT1 = DT1.predict(X_train)\n",
        "  \n",
        "  #Adding results into an array for averaging later on\n",
        "  DT1trainingAccuracyArr.append(accuracy_score(y_train, y_train_pred_DT1))\n",
        "  DT1accuracyArr.append(accuracy_score(y_test, y_pred_DT1))\n",
        "  DT1recallArr.append(recall_score(y_test, y_pred_DT1))\n",
        "  DT1precisionArr.append(precision_score(y_test, y_pred_DT1))\n",
        "\n",
        "  #DT2: DT with IG & limited tree size, vary the number of levels and try to beat DT1\n",
        "  DT2 = DecisionTreeClassifier(max_depth=4)\n",
        "  DT2.fit(X_train, y_train)\n",
        "  y_pred_DT2 = DT2.predict(X_test)\n",
        "  y_train_pred_DT2 = DT2.predict(X_train)\n",
        "\n",
        "  #Adding results into an array for averaging later on\n",
        "  DT2trainingAccuracyArr.append(accuracy_score(y_train, y_train_pred_DT2))\n",
        "  DT2accuracyArr.append(accuracy_score(y_test, y_pred_DT2))\n",
        "  DT2recallArr.append(recall_score(y_test, y_pred_DT2))\n",
        "  DT2precisionArr.append(precision_score(y_test, y_pred_DT2))\n",
        "\n",
        "#Average Performance of DT1\n",
        "averageDT1TrainingAccuracy = sum(DT1trainingAccuracyArr) / len(DT1trainingAccuracyArr)\n",
        "averageDT1Accuracy = sum(DT1accuracyArr) / len(DT1accuracyArr)\n",
        "averageDT1Recall = sum(DT1recallArr) / len(DT1recallArr)\n",
        "averageDT1Precision = sum(DT1precisionArr) / len(DT1precisionArr)\n",
        "\n",
        "print('DT1 Average Training Accuracy: %0.3f' % averageDT1TrainingAccuracy)\n",
        "print('DT1 Average Accuracy: %.3f' % averageDT1Accuracy)\n",
        "print('DT1 Average Recall: %.3f' % averageDT1Recall)\n",
        "print('DT1 Average Precision: %.3f' % averageDT1Precision)\n",
        "\n",
        "#Separator\n",
        "print('-'*40)\n",
        "\n",
        "#Average Performance of DT2\n",
        "averageDT2TrainingAccuracy = sum(DT2trainingAccuracyArr) / len(DT2trainingAccuracyArr)\n",
        "averageDT2Accuracy = sum(DT2accuracyArr) / len(DT2accuracyArr)\n",
        "averageDT2Recall = sum(DT2recallArr) / len(DT2recallArr)\n",
        "averageDT2Precision = sum(DT2precisionArr) / len(DT2precisionArr)\n",
        "\n",
        "print('DT2 Average Training Accuracy: %0.3f' % averageDT2TrainingAccuracy)\n",
        "print('DT2 Average Accuracy: %.3f' % averageDT2Accuracy)\n",
        "print('DT2 Average Recall: %.3f' % averageDT2Recall)\n",
        "print('DT2 Average Precision: %.3f' % averageDT2Precision)"
      ]
    }
  ]
}